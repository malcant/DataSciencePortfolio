{
 "cells": [
  {
   "cell_type": "markdown",
   "metadata": {},
   "source": [
    "**Cleaning Up a Messy Grocery Dataset**"
   ]
  },
  {
   "cell_type": "markdown",
   "metadata": {},
   "source": [
    "You are given a dataset representing sales of varius grocery items, including details like names, quamtities, unit prices, purchase dates, and categories. However, the dataset contain some errors and missing data that you are tasked with finding and correcting. \n",
    "\n",
    "**Task:** Without editing inputs and using Python code anole, write a clean_data() function that will return a dataset ready for analysis. Your function should return a cleaned DataFrame with updated categories, filled-in unit prices and positive quantites. "
   ]
  },
  {
   "cell_type": "code",
   "execution_count": 12,
   "metadata": {},
   "outputs": [],
   "source": [
    "import numpy as np\n",
    "import pandas as pd\n",
    "from datetime import datetime"
   ]
  },
  {
   "cell_type": "code",
   "execution_count": 13,
   "metadata": {},
   "outputs": [],
   "source": [
    "# Grocery sales dataset below. Your answer should return the cleaned dataset.\n",
    "# This is how your code will be called.\n",
    "data = {\n",
    "    'Item Name': ['Apples', 'Milk', 'Bread', 'Eggs', 'Bananas', 'Cheese', \n",
    "                  'Tomatoes', 'Potatoes', 'Onions', 'Chicken',\n",
    "                  'Pasta', 'Rice', 'Bread','Yogurt', 'Ice Cream', 'Cereal'],\n",
    "    'Quantity': [5, 1, 1, 3, 5, 2, 3, 4, 1, 2, -3, 2, 2, 2, 1, 3],\n",
    "    'Unit Price': [1.5, 2.0, np.nan, 0.2, 1.0, 3.0, 1.2, 0.5, 0.8, 5.0, 2.5, 1.0, 4.0, 4.0, 2.0, 1.0],  \n",
    "    'Purchase Date': [\n",
    "        datetime(2024, 4, 1),\n",
    "        datetime(2024, 4, 2),\n",
    "        datetime(2024, 4, 2),\n",
    "        datetime(2024, 4, 3),\n",
    "        datetime(2024, 4, 3),\n",
    "        datetime(2024, 4, 3),\n",
    "        datetime(2024, 4, 4),\n",
    "        datetime(2024, 4, 4),\n",
    "        datetime(2024, 4, 7),\n",
    "        datetime(2024, 4, 7),\n",
    "        datetime(2024, 4, 7),\n",
    "        datetime(2024, 4, 1),\n",
    "        datetime(2024, 4, 4),\n",
    "        datetime(2024, 4, 2),\n",
    "        datetime(2024, 4, 3),\n",
    "        datetime(2024, 4, 1)\n",
    "    ],\n",
    "    'Category': ['Fruits', 'Dairy', 'Bakery', np.nan, 'Fruits', 'Dairy', \n",
    "                 'Vegetables', np.nan, 'Vegetables', 'Meat',\n",
    "                 'Pasta', 'Grains', 'Bakery','Dairy', 'Desserts', 'Cereal']\n",
    "}\n",
    "\n",
    "df = pd.DataFrame(data)\n"
   ]
  },
  {
   "cell_type": "code",
   "execution_count": 14,
   "metadata": {},
   "outputs": [
    {
     "data": {
      "text/html": [
       "<div>\n",
       "<style scoped>\n",
       "    .dataframe tbody tr th:only-of-type {\n",
       "        vertical-align: middle;\n",
       "    }\n",
       "\n",
       "    .dataframe tbody tr th {\n",
       "        vertical-align: top;\n",
       "    }\n",
       "\n",
       "    .dataframe thead th {\n",
       "        text-align: right;\n",
       "    }\n",
       "</style>\n",
       "<table border=\"1\" class=\"dataframe\">\n",
       "  <thead>\n",
       "    <tr style=\"text-align: right;\">\n",
       "      <th></th>\n",
       "      <th>Item Name</th>\n",
       "      <th>Quantity</th>\n",
       "      <th>Unit Price</th>\n",
       "      <th>Purchase Date</th>\n",
       "      <th>Category</th>\n",
       "    </tr>\n",
       "  </thead>\n",
       "  <tbody>\n",
       "    <tr>\n",
       "      <th>0</th>\n",
       "      <td>Apples</td>\n",
       "      <td>5</td>\n",
       "      <td>1.5</td>\n",
       "      <td>2024-04-01</td>\n",
       "      <td>Fruits</td>\n",
       "    </tr>\n",
       "    <tr>\n",
       "      <th>1</th>\n",
       "      <td>Milk</td>\n",
       "      <td>1</td>\n",
       "      <td>2.0</td>\n",
       "      <td>2024-04-02</td>\n",
       "      <td>Dairy</td>\n",
       "    </tr>\n",
       "    <tr>\n",
       "      <th>2</th>\n",
       "      <td>Bread</td>\n",
       "      <td>1</td>\n",
       "      <td>NaN</td>\n",
       "      <td>2024-04-02</td>\n",
       "      <td>Bakery</td>\n",
       "    </tr>\n",
       "    <tr>\n",
       "      <th>3</th>\n",
       "      <td>Eggs</td>\n",
       "      <td>3</td>\n",
       "      <td>0.2</td>\n",
       "      <td>2024-04-03</td>\n",
       "      <td>NaN</td>\n",
       "    </tr>\n",
       "    <tr>\n",
       "      <th>4</th>\n",
       "      <td>Bananas</td>\n",
       "      <td>5</td>\n",
       "      <td>1.0</td>\n",
       "      <td>2024-04-03</td>\n",
       "      <td>Fruits</td>\n",
       "    </tr>\n",
       "  </tbody>\n",
       "</table>\n",
       "</div>"
      ],
      "text/plain": [
       "  Item Name  Quantity  Unit Price Purchase Date Category\n",
       "0    Apples         5         1.5    2024-04-01   Fruits\n",
       "1      Milk         1         2.0    2024-04-02    Dairy\n",
       "2     Bread         1         NaN    2024-04-02   Bakery\n",
       "3      Eggs         3         0.2    2024-04-03      NaN\n",
       "4   Bananas         5         1.0    2024-04-03   Fruits"
      ]
     },
     "execution_count": 14,
     "metadata": {},
     "output_type": "execute_result"
    }
   ],
   "source": [
    "df.head()"
   ]
  },
  {
   "cell_type": "code",
   "execution_count": 21,
   "metadata": {},
   "outputs": [
    {
     "data": {
      "text/html": [
       "<div>\n",
       "<style scoped>\n",
       "    .dataframe tbody tr th:only-of-type {\n",
       "        vertical-align: middle;\n",
       "    }\n",
       "\n",
       "    .dataframe tbody tr th {\n",
       "        vertical-align: top;\n",
       "    }\n",
       "\n",
       "    .dataframe thead th {\n",
       "        text-align: right;\n",
       "    }\n",
       "</style>\n",
       "<table border=\"1\" class=\"dataframe\">\n",
       "  <thead>\n",
       "    <tr style=\"text-align: right;\">\n",
       "      <th></th>\n",
       "      <th>Item Name</th>\n",
       "      <th>Quantity</th>\n",
       "      <th>Unit Price</th>\n",
       "      <th>Purchase Date</th>\n",
       "      <th>Category</th>\n",
       "    </tr>\n",
       "  </thead>\n",
       "  <tbody>\n",
       "    <tr>\n",
       "      <th>3</th>\n",
       "      <td>Eggs</td>\n",
       "      <td>3</td>\n",
       "      <td>0.2</td>\n",
       "      <td>2024-04-03</td>\n",
       "      <td>NaN</td>\n",
       "    </tr>\n",
       "    <tr>\n",
       "      <th>7</th>\n",
       "      <td>Potatoes</td>\n",
       "      <td>4</td>\n",
       "      <td>0.5</td>\n",
       "      <td>2024-04-04</td>\n",
       "      <td>NaN</td>\n",
       "    </tr>\n",
       "  </tbody>\n",
       "</table>\n",
       "</div>"
      ],
      "text/plain": [
       "  Item Name  Quantity  Unit Price Purchase Date Category\n",
       "3      Eggs         3         0.2    2024-04-03      NaN\n",
       "7  Potatoes         4         0.5    2024-04-04      NaN"
      ]
     },
     "execution_count": 21,
     "metadata": {},
     "output_type": "execute_result"
    }
   ],
   "source": [
    "#show the items that there is no category\n",
    "df[df['Category'].isnull()]\n"
   ]
  },
  {
   "cell_type": "code",
   "execution_count": 33,
   "metadata": {},
   "outputs": [],
   "source": [
    "def clean_data(df):\n",
    "   \n",
    "    #Clean categories\n",
    "    df.loc[df['Item Name']=='Eggs', 'Category']='Dairy'\n",
    "    df.loc[df['Item Name']=='Potatoes', 'Category']='Vegetables'\n",
    "\n",
    "    #Fill in missing unit prices\n",
    "    #df['Unit Price'].fillna(method='bfill', inplace=True)\n",
    "    df['Unit Price'] = df.groupby('Item Name')['Unit Price'].transform(lambda x:x.fillna(x.mean()))\n",
    "    \n",
    "\n",
    "    #Ensure positive quantity\n",
    "    #df['Quantity'] = df['Quantity'].abs()\n",
    "    df['Quantity'] = [abs(x) for x in df['Quantity']]\n",
    "\n",
    "    return df"
   ]
  },
  {
   "cell_type": "code",
   "execution_count": 34,
   "metadata": {},
   "outputs": [
    {
     "name": "stdout",
     "output_type": "stream",
     "text": [
      "    Item Name  Quantity  Unit Price Purchase Date    Category\n",
      "0      Apples         5         1.5    2024-04-01      Fruits\n",
      "1        Milk         1         2.0    2024-04-02       Dairy\n",
      "2       Bread         1         0.2    2024-04-02      Bakery\n",
      "3        Eggs         3         0.2    2024-04-03       Dairy\n",
      "4     Bananas         5         1.0    2024-04-03      Fruits\n",
      "5      Cheese         2         3.0    2024-04-03       Dairy\n",
      "6    Tomatoes         3         1.2    2024-04-04  Vegetables\n",
      "7    Potatoes         4         0.5    2024-04-04  Vegetables\n",
      "8      Onions         1         0.8    2024-04-07  Vegetables\n",
      "9     Chicken         2         5.0    2024-04-07        Meat\n",
      "10      Pasta         3         2.5    2024-04-07       Pasta\n",
      "11       Rice         2         1.0    2024-04-01      Grains\n",
      "12      Bread         2         4.0    2024-04-04      Bakery\n",
      "13     Yogurt         2         4.0    2024-04-02       Dairy\n",
      "14  Ice Cream         1         2.0    2024-04-03    Desserts\n",
      "15     Cereal         3         1.0    2024-04-01      Cereal\n"
     ]
    }
   ],
   "source": [
    "#Example usage\n",
    "df = clean_data(df)\n",
    "print(df)"
   ]
  },
  {
   "cell_type": "code",
   "execution_count": null,
   "metadata": {},
   "outputs": [],
   "source": []
  }
 ],
 "metadata": {
  "kernelspec": {
   "display_name": "Python 3",
   "language": "python",
   "name": "python3"
  },
  "language_info": {
   "codemirror_mode": {
    "name": "ipython",
    "version": 3
   },
   "file_extension": ".py",
   "mimetype": "text/x-python",
   "name": "python",
   "nbconvert_exporter": "python",
   "pygments_lexer": "ipython3",
   "version": "3.11.9"
  }
 },
 "nbformat": 4,
 "nbformat_minor": 2
}
